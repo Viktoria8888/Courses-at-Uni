# let mul fn fk = fun f x -> (fn (fk f) x);;
val mul : ('a -> 'b -> 'c) -> ('d -> 'a) -> 'd -> 'b -> 'c = <fun>
# let zero f = fun x-> (f x);;
val zero : ('a -> 'b) -> 'a -> 'b = <fun>
# let is_zero fn = if fn = zero then ctrue else cfalse;;
Error: Unbound value ctrue
# (*zero && succ*)
let zero f = fun x-> (f x)
(* 
let zero1 f x =
  if true then x
  else (f x) *)

let succ fn f = fun x-> f ( fn f x)

(*add && mul*)
let add fn fk = fun f x -> (fn f (fk f x))
(*f^{n+k}(x) = f^{n}(f^{k}(x))*)
let mul fn fk = fun f x -> (fn (fk f) x)
(*f^{n*k}(x) = (f^{k})^{n}(x) = (f^k(...(f^k(f^k)...)(x) - to n razy*)
(*is_zero*)

let ctrue a b = if true then a else b

let cfalse a b = if true then b else a

let cand (f:'a -> 'a -> 'a) (g:'a -> 'a -> 'a) = if (f = ctrue && g = ctrue) then (ctrue:'a -> 'a -> 'a) else cfalse

let cor (f:'a -> 'a -> 'a) (g:'a -> 'a -> 'a) = if (f=ctrue || g=ctrue) then (ctrue:'a -> 'a -> 'a) else cfalse

let cbool_of_bool v = if v then ctrue else cfalse

let  bool_of_cbool v = if (v true false) then true else false

let is_zero fn = if fn = zero then ctrue else cfalse
(* let one = (succ zero)
let two = (succ (succ zero))
let three = (succ (succ (succ zero)))

let nats = fun n-> n+1 *)

;;
val zero : ('a -> 'b) -> 'a -> 'b = <fun>
val succ : (('a -> 'b) -> 'c -> 'a) -> ('a -> 'b) -> 'c -> 'b = <fun>
val add : ('a -> 'b -> 'c) -> ('a -> 'd -> 'b) -> 'a -> 'd -> 'c = <fun>
val mul : ('a -> 'b -> 'c) -> ('d -> 'a) -> 'd -> 'b -> 'c = <fun>
val ctrue : 'a -> 'a -> 'a = <fun>
val cfalse : 'a -> 'a -> 'a = <fun>
val cand : ('a -> 'a -> 'a) -> ('a -> 'a -> 'a) -> 'a -> 'a -> 'a = <fun>
val cor : ('a -> 'a -> 'a) -> ('a -> 'a -> 'a) -> 'a -> 'a -> 'a = <fun>
val cbool_of_bool : bool -> 'a -> 'a -> 'a = <fun>
val bool_of_cbool : (bool -> bool -> bool) -> bool = <fun>
val is_zero : (('a -> 'b) -> 'a -> 'b) -> 'c -> 'c -> 'c = <fun>
# let is_zero fn = if fn = zero then ctrue else cfalse;;
val is_zero : (('a -> 'b) -> 'a -> 'b) -> 'c -> 'c -> 'c = <fun>
# let one = (succ zero)
let two = (succ (succ zero))
let three = (succ (succ (succ zero)))
let nats = fun n-> n+1 
add two three;;
Error: This expression has type int
       This is not a function; it cannot be applied.
# let one = (succ zero)
let two = (succ (succ zero))
let three = (succ (succ (succ zero)))
let nats = fun n-> n+1 
(add two three nats 0);;
Error: This expression has type int
       This is not a function; it cannot be applied.
# nats;;
Error: Unbound value nats
# let one = (succ zero)
let two = (succ (succ zero))
let three = (succ (succ (succ zero)))
let nats = fun n-> n+1 
(add two three( fun n->n+1) 0);;
Error: This expression has type int
       This is not a function; it cannot be applied.
# let one = (succ zero)
let two = (succ (succ zero))
let three = (succ (succ (succ zero))) 
(add two three( fun n->n+1) 0);;
Error: Unbound value three
# let one = (succ zero)
let two = (succ (succ zero))
let three = (succ (succ (succ zero)))
(add two three( fun n->n+1) 0);;
Error: Unbound value three
# let one = (succ zero);
let two = (succ (succ zero));
let three = (succ (succ (succ zero))); 
(add two three( fun n->n+1) 0);;
Error: Syntax error
# let one = (succ zero);
let two = (succ (succ zero));
let three = (succ (succ (succ zero))); 
add two three( fun n->n+1) 0;;
Error: Syntax error
# let one = (succ zero);;
val one : ('_weak1 -> '_weak1) -> '_weak1 -> '_weak1 = <fun>
# let two = (succ (succ zero));;
val two : ('_weak2 -> '_weak2) -> '_weak2 -> '_weak2 = <fun>
# add two three( fun n->n+1) 0;;
Error: Unbound value three
# add two one( fun n->n+1) 0;;
- : int = 5
# add two one( fun n->n) 0;;
- : int = 0
# add two one( fun n->n+1) 0;;
- : int = 5
# #utop_save;;
Directive `utop_save' expects a `string' literal, got no argument.
# #utop_save test;;
Directive `utop_save' expects a `string' literal, got an identifier.
# #utop_save "test";;
